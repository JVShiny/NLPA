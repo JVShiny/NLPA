{
 "cells": [
  {
   "cell_type": "code",
   "execution_count": 1,
   "metadata": {},
   "outputs": [],
   "source": [
    "import re\n",
    "import unidecode\n",
    "import pandas as pd\n",
    "import spacy\n",
    "from nltk.corpus import stopwords\n",
    "from nltk.tokenize import word_tokenize\n",
    "\n",
    "nlp = spacy.load(\"es_core_news_sm\")"
   ]
  },
  {
   "cell_type": "markdown",
   "metadata": {},
   "source": [
    "FUNCIONES"
   ]
  },
  {
   "cell_type": "code",
   "execution_count": 3,
   "metadata": {},
   "outputs": [],
   "source": [
    "#Función para limpiar datos\n",
    "def normalize_text(text):\n",
    "  \"\"\"\n",
    "  Normaliza un texto determinado, los parametros pueden ser variables según las necesidades\n",
    "\n",
    "  Parametros:\n",
    "  text (str): texto a normalizar\n",
    "\n",
    "  Devuelve el texto normalizado\n",
    "  \"\"\"\n",
    "  #Carga de modelo español spacy\n",
    "  nlp = spacy.load(\"es_core_news_sm\")\n",
    "\n",
    "  # volver str la cadena\n",
    "  text = str(text)\n",
    "  # minusculas\n",
    "  text = text.lower()\n",
    "  # Quitar cracteres especiales\n",
    "  text = unidecode.unidecode(text)\n",
    "  # Procesar el texto con spacy\n",
    "  doc = nlp(text)\n",
    "  # Eliminar stopwords, puntuación y realizar lematización\n",
    "  text_normalized = ' '.join([token.lemma_ for token in doc if not token.is_stop and not token.is_punct])\n",
    "\n",
    "  return text_normalized\n",
    "\n"
   ]
  },
  {
   "cell_type": "code",
   "execution_count": 6,
   "metadata": {},
   "outputs": [],
   "source": [
    "from concurrent.futures import ThreadPoolExecutor\n",
    "\n",
    "## Funcion para trabajar los procesos en más de un nucleo\n",
    "\n",
    "def parallel_prosessing_threads(data, funcion):\n",
    "    with ThreadPoolExecutor() as executor:\n",
    "        results = list(executor.map(funcion, data))\n",
    "    return results\n",
    "## limpieza de texto\n",
    "#Abrir el archivo\n",
    "data = pd.read_excel('data.xlsx')\n",
    "\n",
    "## Normalizando columna de opiniones y almacenandolo en una nueva columna\n",
    "data['Opinion_normalizada'] = parallel_prosessing_threads(data['Opinion'], normalize_text)\n",
    "\n"
   ]
  },
  {
   "cell_type": "code",
   "execution_count": null,
   "metadata": {},
   "outputs": [],
   "source": [
    "from gensim.models.doc2vec import Doc2Vec, TaggedDocument\n",
    "\n",
    "# Preparando datos para meterlos al modelo\n",
    "opiniones_tokenizadas = [opinion.split() for opinion in data['Opinion_normalizada'].astype(str)]\n",
    "tagged_data = [TaggedDocument(words=words, tags=[str(atraction)]) for words, atraction in zip(opiniones_tokenizadas, data['Atraction'].astype(str))]"
   ]
  },
  {
   "cell_type": "code",
   "execution_count": null,
   "metadata": {},
   "outputs": [],
   "source": [
    "# Construir y entrenar el modelo\n",
    "model = Doc2Vec(vector_size=50, window=5, min_count=1, workers=4, epochs=20)\n",
    "model.build_vocab(tagged_data)\n",
    "model.train(tagged_data, total_examples=model.corpus_count, epochs=model.epochs)\n",
    "\n",
    "#Guardar el modelo\n",
    "model.save('doc2vec_model')"
   ]
  },
  {
   "cell_type": "markdown",
   "metadata": {},
   "source": [
    "Entrenar algoritmo KNN"
   ]
  },
  {
   "cell_type": "code",
   "execution_count": null,
   "metadata": {},
   "outputs": [],
   "source": [
    "from sklearn.neighbors import KNeighborsClassifier\n",
    "from sklearn.model_selection import train_test_split\n",
    "from gensim.models import Doc2Vec\n",
    "import numpy as np\n",
    "\n",
    "# Cargar modelo doc2vec\n",
    "model = Doc2Vec.load(path + 'doc2vec_model')\n",
    "\n",
    "# Preparar los datos para el entrenamiento\n",
    "data['Opinion_normalizada'] = data['Opinion_normalizada'].apply(lambda x: str(x) if pd.notnull(x) else '')\n",
    "feature_vectors = [model.infer_vector(opinion.split()) for opinion in data['Opinion_normalizada']]\n",
    "X = np.array(feature_vectors)\n",
    "y = data['Atraction'].values\n",
    "\n",
    "# Entrenamiento del clasificados knn\n",
    "X_train, X_test, y_train, y_test = train_test_split(X, y, test_size=0.2, random_state=42)\n",
    "knn = KNeighborsClassifier(n_neighbors=3)\n",
    "knn.fit(X_train, y_train)"
   ]
  },
  {
   "cell_type": "code",
   "execution_count": null,
   "metadata": {},
   "outputs": [],
   "source": [
    "#Prueba con 50 opiniones\n",
    "X_test_sample = X_test[:50]\n",
    "y_test_sample = y_test[:50]\n",
    "\n",
    "#prediccion\n",
    "y_pred = knn.predict(X_test_sample)"
   ]
  },
  {
   "cell_type": "code",
   "execution_count": null,
   "metadata": {},
   "outputs": [],
   "source": [
    "# Generar matriz de confusion\n",
    "\n",
    "from sklearn.metrics import confusion_matrix, accuracy_score\n",
    "\n",
    "matriz_conf = confusion_matrix(y_test_sample, y_pred)\n",
    "accuracy = accuracy_score(y_test_sample, y_pred)\n",
    "\n",
    "print(\"Matriz de confusion\")\n",
    "print(matriz_conf)\n",
    "print(\"Accuracy\", accuracy)"
   ]
  }
 ],
 "metadata": {
  "kernelspec": {
   "display_name": "base",
   "language": "python",
   "name": "python3"
  },
  "language_info": {
   "codemirror_mode": {
    "name": "ipython",
    "version": 3
   },
   "file_extension": ".py",
   "mimetype": "text/x-python",
   "name": "python",
   "nbconvert_exporter": "python",
   "pygments_lexer": "ipython3",
   "version": "3.10.9"
  },
  "orig_nbformat": 4
 },
 "nbformat": 4,
 "nbformat_minor": 2
}
